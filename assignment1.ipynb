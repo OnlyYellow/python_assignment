{
  "cells": [
    {
      "cell_type": "markdown",
      "metadata": {
        "id": "o4V8swvnH0Lc"
      },
      "source": [
        "# **본 노트북 파일은 '파이썬이해와활용' 과제1에 대한 skeleton code 입니다.**"
      ]
    },
    {
      "cell_type": "markdown",
      "source": [
        "문제1. 함수 get_avergae_score()는 가변인자 *를 사용하여 과목에 대한 시험 점수를 입력받은 후 입력받은 과목수와 평균 시험 점수를 반환하는 함수이다. 이 함수를 구현하시오. \n",
        "\n",
        "---\n",
        "\n",
        "함수 호출에 따른 결과 예시) \n",
        "\n",
        "\n",
        "---\n",
        "\n",
        "\n",
        "\n",
        "함수 호출 예1)\n",
        "\n",
        "n, avg = get_avergae_score(95, 100, 90)\n",
        "\n",
        "print(n, \"과목의 평균 점수:\", avg, \"\\n\")\n",
        "\n",
        "결과 예1)\n",
        "\n",
        "3 과목의 평균 점수: 95.0 \n",
        "\n",
        "\n",
        "\n",
        "---\n",
        "\n",
        "\n",
        "함수 호출 예2)\n",
        "\n",
        "n, avg = get_avergae_score(90, 90, 80, 90)\n",
        "\n",
        "print(n, \"과목의 평균 점수:\", avg, \"\\n\")\n",
        "\n",
        "결과 예2) \n",
        "\n",
        "4 과목의 평균 점수: 87.5 "
      ],
      "metadata": {
        "id": "H5EGjkXP1Xa9"
      }
    },
    {
      "cell_type": "code",
      "source": [
        "def get_avergae_score(*scores):\n",
        "    ### Modify code here ###\n",
        "    cnt = len(scores)\n",
        "    sum = 0\n",
        "    for score in scores:\n",
        "        sum += score\n",
        "    avg = sum / cnt\n",
        "    ### End of your code ###\n", 
        "\n",
        "    return cnt, avg\n",
        "\n",
        "n, avg = get_avergae_score(95, 100, 90)\n",
        "print(n, \"과목의 평균 점수:\", avg, \"\\n\")\n",
        "\n",
        "n, avg = get_avergae_score(90, 90, 80, 90)\n",
        "print(n, \"과목의 평균 점수:\", avg, \"\\n\")"
      ],
      "metadata": {
        "colab": {
          "base_uri": "https://localhost:8080/"
        },
        "id": "knwUAhjUcpPZ",
        "outputId": "2a9fd3da-15b2-4022-8315-69a60086f5a4"
      },
      "execution_count": 1,
      "outputs": [
        {
          "output_type": "stream",
          "name": "stdout",
          "text": [
            "3 과목의 평균 점수: 95.0 \n",
            "\n",
            "4 과목의 평균 점수: 87.5 \n",
            "\n"
          ]
        }
      ]
    },
    {
      "cell_type": "markdown",
      "metadata": {
        "id": "rVmSaxzXNuXh"
      },
      "source": [
        "문제 2. 함수 fiveTen은 한 개의 크키가 1 이상인 정수형 매개변수 n을 받은 후, n의 크기만큼 “*”을 출력하고 n이 5 이하이면 “Under or Equal 5”, n이 5 초과이면서 10 이하이면 “5 and 10”, 그리고 n이 10 초과이면 “Over 10”을 출력하여 결과로 반환한다. 함수 fiveTen(n)의 코드를 구현하시오.\n",
        "\n",
        "(참고: \"*\" 출력 후 줄바꿈이 들어가야합니다.) \n",
        "\n",
        "---\n",
        "\n",
        "함수 호출 예1)\n",
        "\n",
        "fiveTen(3)\n",
        "\n",
        "<br/>\n",
        "\n",
        "출력 결과 예1)\n",
        "\n",
        "\n",
        "*\n",
        "\n",
        "*\n",
        "\n",
        "*\n",
        "\n",
        "Under or Equal 5\n",
        "\n",
        "---\n",
        "\n",
        "함수 호출 예2)\n",
        "\n",
        "fiveTen(7)\n",
        "\n",
        "<br/>\n",
        "\n",
        "출력 결과 예2)\n",
        "\n",
        "\n",
        "*\n",
        "\n",
        "*\n",
        "\n",
        "*\n",
        "\n",
        "*\n",
        "\n",
        "*\n",
        "\n",
        "*\n",
        "\n",
        "*\n",
        "\n",
        "5 and 10\n",
        "\n",
        "---\n",
        "\n",
        "함수 호출 예3)\n",
        "\n",
        "fiveTen(11)\n",
        "\n",
        "<br/>\n",
        "\n",
        "출력 결과 예3)\n",
        "\n",
        "\n",
        "*\n",
        "\n",
        "*\n",
        "\n",
        "*\n",
        "\n",
        "*\n",
        "\n",
        "*\n",
        "\n",
        "*\n",
        "\n",
        "*\n",
        "\n",
        "*\n",
        "\n",
        "*\n",
        "\n",
        "*\n",
        "\n",
        "*\n",
        "\n",
        "Over 10"
      ]
    },
    {
      "cell_type": "code",
      "execution_count": 2,
      "metadata": {
        "id": "OXn3KsVeQBne",
        "colab": {
          "base_uri": "https://localhost:8080/"
        },
        "outputId": "9f1e6975-9b7c-4ade-cace-c790ef50fe52"
      },
      "outputs": [
        {
          "output_type": "stream",
          "name": "stdout",
          "text": [
            "*\n",
            "*\n",
            "*\n",
            "Under or Equal 5\n",
            "*\n",
            "*\n",
            "*\n",
            "*\n",
            "*\n",
            "*\n",
            "*\n",
            "5 and 10\n",
            "*\n",
            "*\n",
            "*\n",
            "*\n",
            "*\n",
            "*\n",
            "*\n",
            "*\n",
            "*\n",
            "*\n",
            "*\n",
            "Over 10\n"
          ]
        }
      ],
      "source": [
        "def fiveTen(n):\n",
        "    #### Modify code here ####\n",
        "    for i in range(n):\n",
        "        print(\"*\")\n",
        "    if n <= 5:\n",
        "        print(\"Under or Equal 5\\n\")\n",
        "    elif n > 5 and n <= 10:\n",
        "        print(\"5 and 10\\n\")\n",
        "    else:\n",
        "        print(\"Over 10\\n\")\n",
        "    #### End of the code ####\n",
        "            \n",
        "fiveTen(3)\n",
        "fiveTen(7)\n",
        "fiveTen(11)"
      ]
    },
    {
      "cell_type": "markdown",
      "source": [
        "문제3. 0부터 100까지 임의의 정수 한 개를 입력으로 받아, 해당 정수까지 구할 수 있는 모든 소수를 구하여 출력하고, 소수값들을 누적하여 합한 결과를 출력할 수 있는 함수를 구현하시오.\n",
        "\n",
        "---\n",
        "\n",
        "함수 호출 예1)\n",
        "findPrimes(0)\n",
        "<br/>\n",
        "출력 결과 예1)\n",
        "\n",
        "현재 입력받은 정수: 0\n",
        "\n",
        "sum: 0\n",
        "\n",
        "---\n",
        "\n",
        "함수 호출 예2)\n",
        "findPrimes(9)\n",
        "<br/>\n",
        "출력 결과 예2)\n",
        "\n",
        "현재 입력받은 정수: 9\n",
        "\n",
        "소수: 2\n",
        "\n",
        "소수: 3\n",
        "\n",
        "소수: 5\n",
        "\n",
        "소수: 7\n",
        "\n",
        "sum: 17\n",
        "\n",
        "---\n",
        "\n",
        "함수 호출 예3)\n",
        "findPrimes(5)\n",
        "<br/>\n",
        "\n",
        "출력 결과 예3)\n",
        "\n",
        "현재 입력받은 정수: 3\n",
        "\n",
        "소수: 2\n",
        "\n",
        "소수: 3\n",
        "\n",
        "sum: 5\n"
      ],
      "metadata": {
        "id": "fcOrA79ZgqyG"
      }
    },
    {
      "cell_type": "code",
      "source": [
        "def findPrimes(max_num):\n",
        "    sum = 0\n",
        "    print(\"현재 입력받은:\", max_num)\n",
        "    \n",
        "    ### Modify code here ###\n",
        "    for number in range(1, max_num + 1):\n",
        "        isPrime = True\n",
        "        if number <= 1:\n",
        "            continue\n",
        "        else:\n",
        "            for num in range(2, number):\n",
        "                if number % num == 0:\n",
        "                    isPrime = False\n",
        "                    break\n",
        "            if isPrime == True:\n",
        "                print(\"소수:\", number, \"\n\")\n",
        "                sum += number\n",
        "    print(\"sum:\", sum)\n",
        "    ### End of your code ###\n",
        "\n",
        "    print(\"sum:\", sum)\n",
        "    print(\"\")\n",
        "\n",
        "findPrimes(0)\n",
        "findPrimes(9)\n",
        "findPrimes(3)"
      ],
      "metadata": {
        "colab": {
          "base_uri": "https://localhost:8080/"
        },
        "id": "H-zB0LvkenaC",
        "outputId": "cca09419-d284-4f21-e222-375472c2dd8c"
      },
      "execution_count": 3,
      "outputs": [
        {
          "output_type": "stream",
          "name": "stdout",
          "text": [
            "현재 입력받은: 0\n",
            "sum: 0\n",
            "\n",
            "현재 입력받은: 9\n",
            "소수: 2\n",
            "소수: 3\n",
            "소수: 5\n",
            "소수: 7\n",
            "sum: 17\n",
            "\n",
            "현재 입력받은: 3\n",
            "소수: 2\n",
            "소수: 3\n",
            "sum: 5\n",
            "\n"
          ]
        }
      ]
    }
  ],
  "metadata": {
    "colab": {
      "provenance": []
    },
    "kernelspec": {
      "display_name": "Python 3",
      "name": "python3"
    },
    "language_info": {
      "name": "python"
    }
  },
  "nbformat": 4,
  "nbformat_minor": 0
}
