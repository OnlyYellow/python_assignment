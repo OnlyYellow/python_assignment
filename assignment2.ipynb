{
  "cells": [
    {
      "cell_type": "markdown",
      "metadata": {
        "id": "ptagKm2LZT5u"
      },
      "source": [
        "# 본 노트북 파일은 '파이썬이해와활용' 과제2에 대한 skeleton code 입니다."
      ]
    },
    {
      "cell_type": "markdown",
      "metadata": {
        "id": "HesWbWIzjRXL"
      },
      "source": [
        "# 문제 1"
      ]
    },
    {
      "cell_type": "markdown",
      "metadata": {
        "id": "T1u2DsziaUKI"
      },
      "source": [
        "문제1. 과자의 이름 및 정보(가격 및 중량)를 저장한 딕셔너리 snack이 있을 때, 과자의 이름으로 검색하여 정보를 출력하는 함수를 정의하라(과자의 이름이 없을 경우 ‘저장된 정보가 없습니다’ 출력).  \n",
        "\n",
        "결과예제>\n",
        "\n",
        "snack_search(“새우깡”)\n",
        "\n",
        "가격: 1200원, 중량: 300g\n",
        "\n",
        "snack_search(“콘치즈”)\n",
        "\n",
        "저장된 정보가 없습니다. "
      ]
    },
    {
      "cell_type": "code",
      "execution_count": 16,
      "metadata": {
        "colab": {
          "base_uri": "https://localhost:8080/"
        },
        "id": "pD9ZypEzZCcW",
        "outputId": "e4584961-f647-491a-8bd7-1fda5d2b9c87"
      },
      "outputs": [
        {
          "name": "stdout",
          "output_type": "stream",
          "text": [
            "가격: 1200원, 중량: 300g\n",
            "저장된 정보가 없습니다.\n"
          ]
        }
      ],
      "source": [
        "import random\n",
        "\n",
        "snack = {\"새우깡\": [1200, 300], \"감자깡\": [1100, 280], \"양파깡\": [1250, 310]}\n",
        "\n",
        "def snack_search(name):\n",
        "    ### Modify code here ###\n",
        "    if name in snack:\n",
        "        price, weight = snack[name]\n",
        "        print(f\"가격: {price}원, 중량: {weight}g\")\n",
        "    else:\n",
        "        print(\"저장된 정보가 없습니다.\") \n",
        "    ### End of your code ###\n",
        "   \n",
        "\n",
        "snack_search(\"새우깡\")\n",
        "snack_search(\"콘치즈\")"
      ]
    },
    {
      "cell_type": "markdown",
      "metadata": {
        "id": "6YRs4Wn2jVkB"
      },
      "source": [
        "# 문제 2"
      ]
    },
    {
      "cell_type": "markdown",
      "metadata": {
        "id": "qA5UYissioW-"
      },
      "source": [
        "문제 2. 과자의 정보를 저장하기 위한 클래스 Snack를 정의하고자 한다. 다음을 고려하여 클래스를 정의하라. \n",
        "1. 과자의 이름(name)과 가격(price)를 입력받는 생성자 __init__(..)를 정의하라\n",
        "2. 과자의 이름과 가격을 출력하는 메서드 print_info(..)를 정의하라(출력내용에 이름: , 가격: 포함)\n",
        "\n",
        "결과 예제:\n",
        "\n",
        "st1 = Snack(\"새우깡\", \"1200\")\n",
        "\n",
        "st1.print_info()  \n",
        "\n",
        "이름: 새우깡, 가격: 1200원\n"
      ]
    },
    {
      "cell_type": "code",
      "execution_count": 18,
      "metadata": {
        "colab": {
          "base_uri": "https://localhost:8080/"
        },
        "id": "TAfeoP-OionZ",
        "outputId": "c197dd94-c006-483f-f822-1337b2ca9332"
      },
      "outputs": [
        {
          "name": "stdout",
          "output_type": "stream",
          "text": [
            "이름: 새우깡, 가격: 1200원\n"
          ]
        }
      ],
      "source": [
        "class Snack:\n",
        "\n",
        "    def __init__(self, name, price):\n",
        "    ### Modify code here ###\n",
        "        self.name = name\n",
        "        self.price = price\n",
        "    ### End of your code ###\n",
        "\n",
        "    def print_info(self):\n",
        "    ### Modify code here ###\n",
        "        print(f\"이름: {self.name}, 가격: {self.price}원\")\n",
        "    ### End of your code ###\n",
        "\n",
        "    \n",
        "s1 = Snack(\"새우깡\", \"1200\")\n",
        "s1.print_info()  "
      ]
    }
  ],
  "metadata": {
    "colab": {
      "provenance": [],
      "toc_visible": true
    },
    "kernelspec": {
      "display_name": "Python 3",
      "language": "python",
      "name": "python3"
    },
    "language_info": {
      "name": "python",
      "version": "3.10.7 (tags/v3.10.7:6cc6b13, Sep  5 2022, 14:08:36) [MSC v.1933 64 bit (AMD64)]"
    },
    "vscode": {
      "interpreter": {
        "hash": "b90673a6e577687c90cf3083efc415812cfd52649af0b92eddb1bc4edde00bcd"
      }
    }
  },
  "nbformat": 4,
  "nbformat_minor": 0
}
